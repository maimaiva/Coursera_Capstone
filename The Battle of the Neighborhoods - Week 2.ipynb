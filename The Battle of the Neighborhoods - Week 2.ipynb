{
 "cells": [
  {
   "cell_type": "markdown",
   "metadata": {},
   "source": [
    "# The Battle of the Neighborhoods - Week 1"
   ]
  },
  {
   "cell_type": "markdown",
   "metadata": {},
   "source": [
    "### Problem and background:\n",
    "\n"
   ]
  },
  {
   "cell_type": "markdown",
   "metadata": {},
   "source": [
    "The city of Bangkok has so much to offer along the lines of history, culture, traditions and architectural beauty. \n",
    "\n",
    "Bangkok is a vast city of almost 1,500 square kilometres (579 square miles) and contains within it a diverse range of neighbourhoods.\n",
    "\n",
    "\n",
    "In order to start any business in Bangkok, in case this business want the office or store, leasing and real estate prices are crutial factors to make a decision to choose the proper location to be the work place.  \n",
    "\n",
    "Various factors need to be studied inorder to decide on the Location such as :\n",
    "\n",
    "- Bangkok Population density (Customers)\n",
    "- Bangkok Demographics (What do they likely to do in this area)\n",
    "- Bangkok Infrastructure & public transportations (Easy to travel to the place)"
   ]
  },
  {
   "cell_type": "markdown",
   "metadata": {},
   "source": [
    "### A description of the data and how it will be used to solve the problem. \n"
   ]
  },
  {
   "cell_type": "markdown",
   "metadata": {},
   "source": [
    "#### Data:"
   ]
  },
  {
   "cell_type": "markdown",
   "metadata": {},
   "source": [
    "Bangkok neighborhood https://www.10best.com/destinations/thailand/bangkok/neighborhoods/"
   ]
  },
  {
   "cell_type": "markdown",
   "metadata": {},
   "source": [
    "Geographical coordinates data  https://www.latlong.net/place/bangkok-central-thailand-thailand-778.html"
   ]
  },
  {
   "cell_type": "markdown",
   "metadata": {},
   "source": [
    "Leasing Prices Website in Bangkok https://www.thailand-property.com/offices-for-rent/bangkok"
   ]
  },
  {
   "cell_type": "markdown",
   "metadata": {},
   "source": [
    "#### Target:\n",
    "To recommend the best location for company to choose the location for offices or stores."
   ]
  },
  {
   "cell_type": "markdown",
   "metadata": {},
   "source": [
    "# The Battle of the Neighborhoods - Week 2"
   ]
  },
  {
   "cell_type": "markdown",
   "metadata": {},
   "source": []
  },
  {
   "cell_type": "markdown",
   "metadata": {},
   "source": [
    "- Introduction where you discuss the business problem and who would be interested in this project.\n",
    "\n",
    "- Data where you describe the data that will be used to solve the problem and the source of the data.\n",
    "\n",
    "- Methodology section which represents the main component of the report where you discuss and describe any exploratory data analysis that you did, any inferential statistical testing that you performed, if any, and what machine learnings were used and why.\n",
    "\n",
    "- Results section where you discuss the results.\n",
    "\n",
    "- Discussion section where you discuss any observations you noted and any recommendations you can make based on the results.\n",
    "\n",
    "- Conclusion section where you conclude the report."
   ]
  },
  {
   "cell_type": "markdown",
   "metadata": {},
   "source": [
    "### Methodology "
   ]
  },
  {
   "cell_type": "markdown",
   "metadata": {},
   "source": [
    "- Set up the scores table, calculating by variouse parameters (renting price, transportation convinience, traveling time, people density)\n",
    "- Also, show the least price, least travelling time place\n",
    "- Ranging the score and compare the result  \n",
    "- Show the best fit result\n",
    "- If have have enough previous data, we might use to make a model which indicate the dominant parameter so we will know that which parameter would affect the price and decision making of people."
   ]
  },
  {
   "cell_type": "markdown",
   "metadata": {},
   "source": [
    "### Results"
   ]
  },
  {
   "cell_type": "markdown",
   "metadata": {},
   "source": [
    "Suggest the best recommendation to users."
   ]
  },
  {
   "cell_type": "markdown",
   "metadata": {},
   "source": [
    "### Discussion"
   ]
  },
  {
   "cell_type": "markdown",
   "metadata": {},
   "source": [
    "Other parameters might be incorporated to make better model in order to select the best location for business success. "
   ]
  }
 ],
 "metadata": {
  "kernelspec": {
   "display_name": "Python 3",
   "language": "python",
   "name": "python3"
  },
  "language_info": {
   "codemirror_mode": {
    "name": "ipython",
    "version": 3
   },
   "file_extension": ".py",
   "mimetype": "text/x-python",
   "name": "python",
   "nbconvert_exporter": "python",
   "pygments_lexer": "ipython3",
   "version": "3.7.3"
  }
 },
 "nbformat": 4,
 "nbformat_minor": 2
}
